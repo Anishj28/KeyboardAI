{
 "cells": [
  {
   "cell_type": "code",
   "execution_count": null,
   "id": "2e7008c1",
   "metadata": {},
   "outputs": [
    {
     "name": "stderr",
     "output_type": "stream",
     "text": [
      "INFO: Created TensorFlow Lite XNNPACK delegate for CPU.\n"
     ]
    }
   ],
   "source": [
    "import cv2\n",
    "import cvzone\n",
    "from cvzone.HandTrackingModule import HandDetector\n",
    "from time import sleep\n",
    "from pynput.keyboard import Controller\n",
    "cap=cv2.VideoCapture(0)\n",
    "#0 is web cam id\n",
    "cap.set(3,1280)\n",
    "cap.set(4,720)\n",
    "\n",
    "detector=HandDetector(detectionCon=0.8)\n",
    "Blist=[]\n",
    "def drawAllKeys(Blist,img):\n",
    "    for i in Blist:\n",
    "        x,y=i.pos\n",
    "        w,h=i.size\n",
    "        cv2.rectangle(img,i.pos,(x+w,y+h),(0,0,0),cv2.FILLED)\n",
    "        cv2.putText(img,i.text,(x+25,y+60),cv2.FONT_HERSHEY_PLAIN,5,(255,255,255),5)\n",
    "    return img\n",
    "    \n",
    "class Buttons():\n",
    "    def __init__(self,pos,text,size=[100,100]):\n",
    "        self.pos=pos\n",
    "        self.size=size\n",
    "        self.text=text\n",
    "\n",
    "\n",
    "\n",
    "\n",
    "\n",
    "listOfKeys=[[\"Q\",\"W\",\"E\",\"R\",\"T\",\"Y\",\"U\",\"I\",\"O\",\"P\"],\n",
    "           [\"A\",\"S\",\"D\",\"F\",\"G\",\"H\",\"J\",\"K\",\"L\",\";\"],\n",
    "           [\"Z\",\"X\",\"C\",\"V\",\"B\",\"N\",\"M\",\",\",\".\",\"/\"]]\n",
    "kb=Controller()\n",
    "for i in range(len(listOfKeys)):\n",
    "        for j,key in enumerate(listOfKeys[i]):\n",
    "            Blist.append(Buttons((100*j+25,100*i+25),key))\n",
    "    \n",
    "while True:\n",
    "    success,img=cap.read()\n",
    "    img=detector.findHands(img)\n",
    "    lmList,bbx=detector.findPosition(img)\n",
    "    #lmList,bboxInfo=detector.findHand(img)\n",
    "    #img=sample.drawKeys(img)\n",
    "    img=drawAllKeys(Blist,img)\n",
    "    if lmList:\n",
    "        for i in Blist:\n",
    "            x,y=i.pos\n",
    "            w,h=i.size\n",
    "            #mediapipe index finger landmark is 8\n",
    "            if x<lmList[8][0]<x+w and y<lmList[8][1]<y+h:\n",
    "                cv2.rectangle(img,i.pos,(x+w,y+h),(255,0,0),cv2.FILLED)\n",
    "                cv2.putText(img,i.text,(x+30,y+55),cv2.FONT_HERSHEY_PLAIN,5,(255,0,255),5)\n",
    "                dist, _, _ =detector.findDistance(8,12,img)\n",
    "                if dist<39:\n",
    "                    kb.press(i.text)\n",
    "                    cv2.rectangle(img,i.pos,(x+w,y+h),(255,0,255),cv2.FILLED)\n",
    "                    cv2.putText(img,i.text,(x+30,y+55),cv2.FONT_HERSHEY_PLAIN,5,(0,0,0),5)\n",
    "                    sleep(0.25)\n",
    "                    \n",
    "                \n",
    "    cv2.imshow(\"Image\",img)\n",
    "    cv2.waitKey(1)"
   ]
  },
  {
   "cell_type": "code",
   "execution_count": 1,
   "id": "430be0cb",
   "metadata": {},
   "outputs": [
    {
     "ename": "SyntaxError",
     "evalue": "invalid syntax (2830201818.py, line 1)",
     "output_type": "error",
     "traceback": [
      "\u001b[0;36m  File \u001b[0;32m\"/var/folders/1_/k2_9hp216v7_mm30htz4m3w00000gn/T/ipykernel_7428/2830201818.py\"\u001b[0;36m, line \u001b[0;32m1\u001b[0m\n\u001b[0;31m    git init\u001b[0m\n\u001b[0m        ^\u001b[0m\n\u001b[0;31mSyntaxError\u001b[0m\u001b[0;31m:\u001b[0m invalid syntax\n"
     ]
    }
   ],
   "source": [
    "git init"
   ]
  },
  {
   "cell_type": "code",
   "execution_count": 4,
   "id": "c48743c0",
   "metadata": {},
   "outputs": [
    {
     "name": "stdout",
     "output_type": "stream",
     "text": [
      "Collecting pynput\n",
      "  Downloading pynput-1.7.3-py2.py3-none-any.whl (99 kB)\n",
      "\u001b[K     |████████████████████████████████| 99 kB 2.0 MB/s eta 0:00:01\n",
      "\u001b[?25hCollecting pyobjc-framework-Quartz>=7.0\n",
      "  Downloading pyobjc_framework_Quartz-7.3-cp39-cp39-macosx_10_9_x86_64.whl (143 kB)\n",
      "\u001b[K     |████████████████████████████████| 143 kB 7.6 MB/s eta 0:00:01\n",
      "\u001b[?25hRequirement already satisfied: six in /Library/Frameworks/Python.framework/Versions/3.9/lib/python3.9/site-packages (from pynput) (1.16.0)\n",
      "Collecting pyobjc-framework-Cocoa>=7.3\n",
      "  Downloading pyobjc_framework_Cocoa-7.3-cp39-cp39-macosx_10_9_x86_64.whl (273 kB)\n",
      "\u001b[K     |████████████████████████████████| 273 kB 10.9 MB/s eta 0:00:01\n",
      "\u001b[?25hCollecting pyobjc-core>=7.3\n",
      "  Downloading pyobjc_core-7.3-cp39-cp39-macosx_10_9_x86_64.whl (293 kB)\n",
      "\u001b[K     |████████████████████████████████| 293 kB 10.9 MB/s eta 0:00:01\n",
      "\u001b[?25hInstalling collected packages: pyobjc-core, pyobjc-framework-Cocoa, pyobjc-framework-Quartz, pynput\n",
      "Successfully installed pynput-1.7.3 pyobjc-core-7.3 pyobjc-framework-Cocoa-7.3 pyobjc-framework-Quartz-7.3\n",
      "Note: you may need to restart the kernel to use updated packages.\n"
     ]
    }
   ],
   "source": [
    "pip install pynput"
   ]
  },
  {
   "cell_type": "code",
   "execution_count": 1,
   "id": "7573f6ee",
   "metadata": {},
   "outputs": [
    {
     "name": "stdout",
     "output_type": "stream",
     "text": [
      "Requirement already satisfied: cvzone==1.4.1 in /Library/Frameworks/Python.framework/Versions/3.9/lib/python3.9/site-packages (1.4.1)\n",
      "Requirement already satisfied: opencv-python in /Library/Frameworks/Python.framework/Versions/3.9/lib/python3.9/site-packages (from cvzone==1.4.1) (4.5.3.56)\n",
      "Requirement already satisfied: numpy in /Library/Frameworks/Python.framework/Versions/3.9/lib/python3.9/site-packages (from cvzone==1.4.1) (1.21.2)\n",
      "Note: you may need to restart the kernel to use updated packages.\n"
     ]
    }
   ],
   "source": [
    "pip install cvzone==1.4.1"
   ]
  },
  {
   "cell_type": "code",
   "execution_count": 5,
   "id": "4824a645",
   "metadata": {},
   "outputs": [
    {
     "name": "stdout",
     "output_type": "stream",
     "text": [
      "Requirement already satisfied: opencv-python in /Library/Frameworks/Python.framework/Versions/3.9/lib/python3.9/site-packages (4.5.3.56)\n",
      "Requirement already satisfied: numpy>=1.19.3 in /Library/Frameworks/Python.framework/Versions/3.9/lib/python3.9/site-packages (from opencv-python) (1.21.2)\n",
      "Note: you may need to restart the kernel to use updated packages.\n"
     ]
    }
   ],
   "source": [
    "pip install opencv-python"
   ]
  },
  {
   "cell_type": "code",
   "execution_count": 4,
   "id": "bbbd1f82",
   "metadata": {},
   "outputs": [
    {
     "name": "stdout",
     "output_type": "stream",
     "text": [
      "Collecting mediapipe\n",
      "  Downloading mediapipe-0.8.7.3-cp39-cp39-macosx_10_15_x86_64.whl (31.1 MB)\n",
      "\u001b[K     |████████████████████████████████| 31.1 MB 4.0 MB/s eta 0:00:01\n",
      "\u001b[?25hRequirement already satisfied: wheel in /Library/Frameworks/Python.framework/Versions/3.9/lib/python3.9/site-packages (from mediapipe) (0.37.0)\n",
      "Collecting absl-py\n",
      "  Downloading absl_py-0.14.1-py3-none-any.whl (131 kB)\n",
      "\u001b[K     |████████████████████████████████| 131 kB 6.6 MB/s eta 0:00:01\n",
      "\u001b[?25hRequirement already satisfied: six in /Library/Frameworks/Python.framework/Versions/3.9/lib/python3.9/site-packages (from mediapipe) (1.16.0)\n",
      "Collecting matplotlib\n",
      "  Downloading matplotlib-3.4.3-cp39-cp39-macosx_10_9_x86_64.whl (7.2 MB)\n",
      "\u001b[K     |████████████████████████████████| 7.2 MB 5.0 MB/s eta 0:00:01\n",
      "\u001b[?25hRequirement already satisfied: numpy in /Library/Frameworks/Python.framework/Versions/3.9/lib/python3.9/site-packages (from mediapipe) (1.21.2)\n",
      "Requirement already satisfied: attrs>=19.1.0 in /Library/Frameworks/Python.framework/Versions/3.9/lib/python3.9/site-packages (from mediapipe) (21.2.0)\n",
      "Requirement already satisfied: opencv-contrib-python in /Library/Frameworks/Python.framework/Versions/3.9/lib/python3.9/site-packages (from mediapipe) (4.5.3.56)\n",
      "Collecting protobuf>=3.11.4\n",
      "  Downloading protobuf-3.18.0-cp39-cp39-macosx_10_9_x86_64.whl (1.0 MB)\n",
      "\u001b[K     |████████████████████████████████| 1.0 MB 6.7 MB/s eta 0:00:01\n",
      "\u001b[?25hCollecting pillow>=6.2.0\n",
      "  Downloading Pillow-8.3.2-cp39-cp39-macosx_10_10_x86_64.whl (3.0 MB)\n",
      "\u001b[K     |████████████████████████████████| 3.0 MB 9.8 MB/s eta 0:00:01\n",
      "\u001b[?25hCollecting kiwisolver>=1.0.1\n",
      "  Downloading kiwisolver-1.3.2-cp39-cp39-macosx_10_9_x86_64.whl (61 kB)\n",
      "\u001b[K     |████████████████████████████████| 61 kB 672 kB/s eta 0:00:011\n",
      "\u001b[?25hRequirement already satisfied: python-dateutil>=2.7 in /Library/Frameworks/Python.framework/Versions/3.9/lib/python3.9/site-packages (from matplotlib->mediapipe) (2.8.2)\n",
      "Collecting cycler>=0.10\n",
      "  Downloading cycler-0.10.0-py2.py3-none-any.whl (6.5 kB)\n",
      "Requirement already satisfied: pyparsing>=2.2.1 in /Library/Frameworks/Python.framework/Versions/3.9/lib/python3.9/site-packages (from matplotlib->mediapipe) (2.4.7)\n",
      "Installing collected packages: pillow, kiwisolver, cycler, protobuf, matplotlib, absl-py, mediapipe\n",
      "Successfully installed absl-py-0.14.1 cycler-0.10.0 kiwisolver-1.3.2 matplotlib-3.4.3 mediapipe-0.8.7.3 pillow-8.3.2 protobuf-3.18.0\n",
      "Note: you may need to restart the kernel to use updated packages.\n"
     ]
    }
   ],
   "source": [
    "pip install mediapipe"
   ]
  },
  {
   "cell_type": "code",
   "execution_count": 3,
   "id": "93e35f75",
   "metadata": {},
   "outputs": [
    {
     "name": "stdout",
     "output_type": "stream",
     "text": [
      "Collecting opencv-contrib-python\n",
      "  Downloading opencv_contrib_python-4.5.3.56-cp39-cp39-macosx_10_15_x86_64.whl (51.4 MB)\n",
      "\u001b[K     |████████████████████████████████| 51.4 MB 3.7 MB/s eta 0:00:01\n",
      "\u001b[?25hRequirement already satisfied: numpy>=1.19.3 in /Library/Frameworks/Python.framework/Versions/3.9/lib/python3.9/site-packages (from opencv-contrib-python) (1.21.2)\n",
      "Installing collected packages: opencv-contrib-python\n",
      "Successfully installed opencv-contrib-python-4.5.3.56\n",
      "Note: you may need to restart the kernel to use updated packages.\n"
     ]
    }
   ],
   "source": [
    "pip install opencv-contrib-python"
   ]
  }
 ],
 "metadata": {
  "kernelspec": {
   "display_name": "Python 3 (ipykernel)",
   "language": "python",
   "name": "python3"
  },
  "language_info": {
   "codemirror_mode": {
    "name": "ipython",
    "version": 3
   },
   "file_extension": ".py",
   "mimetype": "text/x-python",
   "name": "python",
   "nbconvert_exporter": "python",
   "pygments_lexer": "ipython3",
   "version": "3.9.7"
  }
 },
 "nbformat": 4,
 "nbformat_minor": 5
}
